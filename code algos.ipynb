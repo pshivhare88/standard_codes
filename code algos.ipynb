{
 "cells": [
  {
   "cell_type": "code",
   "execution_count": 75,
   "metadata": {},
   "outputs": [],
   "source": [
    "# Most frequently occuring item in an array\n",
    "# Common elements in two sorted arrays\n",
    "# Is one array a rotation of another\n",
    "# first non repeating character\n",
    "# One away strings\n",
    "# Assign numbers in minesweeper\n",
    "# find where to expand in minesweeper\n",
    "# Rotating 2D arrays in place and out of place\n",
    "# Nth element of a linked list\n",
    "# is this binary search tree\n",
    "# lowest common ancestor\n",
    "# nth element of a fibo series\n",
    "# write a function to reverse a sentence\n",
    "# write a function to find if a string is palindrome\n",
    "# write a function to return all possible pairs that sum upto a given value\n",
    "# write a function to return the most recurring item in the list\n",
    "# find gcd\n",
    "# write a function to find longest substring\n",
    "# write a function to bubble sort a list or array\n",
    "# write a function to merge sort a list\n",
    "# linked list\n",
    "# binary tree\n",
    "\n"
   ]
  },
  {
   "cell_type": "code",
   "execution_count": 76,
   "metadata": {},
   "outputs": [
    {
     "name": "stdout",
     "output_type": "stream",
     "text": [
      "3\n",
      "-1\n",
      "None\n",
      "0\n"
     ]
    }
   ],
   "source": [
    "#most frequently occuring item\n",
    "\n",
    "def freq(l):\n",
    "    d1={}\n",
    "    max_freq_val=None\n",
    "    max_freq_count=0\n",
    "    \n",
    "    if len(l)==1:\n",
    "        return l[-1]\n",
    "    elif len(l)==0:\n",
    "        return None\n",
    "    else:\n",
    "        for i in l:\n",
    "            if i in d1:\n",
    "                d1[i]=d1[i]+1\n",
    "            else:\n",
    "                d1.setdefault(i,1)\n",
    "            \n",
    "            if d1[i]> max_freq_count:\n",
    "                max_freq_val=i\n",
    "                max_freq_count=d1[i]\n",
    "        return max_freq_val\n",
    "\n",
    "print(freq([3, 3, 1, 3, 2, 1]))\n",
    "print(freq([0, -1, 10, 10, -1, 10, -1, -1, -1, 1]))\n",
    "print(freq([]))\n",
    "print(freq([0]))\n",
    "        \n",
    "    "
   ]
  },
  {
   "cell_type": "code",
   "execution_count": 77,
   "metadata": {},
   "outputs": [
    {
     "name": "stdout",
     "output_type": "stream",
     "text": [
      "[1, 4, 9]\n",
      "[1, 2, 9, 10, 12]\n",
      "[]\n"
     ]
    }
   ],
   "source": [
    "# Common elements in two sorted arrays\n",
    "\n",
    "def comm(l1,l2):\n",
    "    comm=[]\n",
    "    p1=0\n",
    "    p2=0\n",
    "    \n",
    "    if len(l1)==0 or len(l2)==0:\n",
    "        return []\n",
    "    else:\n",
    "        while p1<len(l1) and p2<len(l2):\n",
    "            if l1[p1]==l2[p2]:\n",
    "                comm.append(l1[p1])\n",
    "                p1=p1+1\n",
    "                p2=p2+1\n",
    "            elif l1[p1]>l2[p2]:\n",
    "                p2=p2+1\n",
    "            else:\n",
    "                p1=p1+1\n",
    "        return comm\n",
    "\n",
    "\n",
    "list_a1 = [1, 3, 4, 6, 7, 9]\n",
    "list_a2 = [1, 2, 4, 5, 9, 10]\n",
    "print(comm(list_a1, list_a2)) \n",
    "#should return [1, 4, 9] (a list).\n",
    "\n",
    "list_b1 = [1, 2, 9, 10, 11, 12]\n",
    "list_b2 = [0, 1, 2, 3, 4, 5, 8, 9, 10, 12, 14, 15]\n",
    "print(comm([1, 2, 9, 10, 11, 12], [0, 1, 2, 3, 4, 5, 8, 9, 10, 12, 14, 15]))\n",
    "#should return [1, 2, 9, 10, 12] (a list).\n",
    "\n",
    "list_c1 = [0, 1, 2, 3, 4, 5]\n",
    "list_c2 = [6, 7, 8, 9, 10, 11]\n",
    "print(comm(list_c1, list_c2))\n",
    "#should return [] (an empty list)."
   ]
  },
  {
   "cell_type": "code",
   "execution_count": 78,
   "metadata": {},
   "outputs": [
    {
     "name": "stdout",
     "output_type": "stream",
     "text": [
      "False\n",
      "True\n",
      "False\n",
      "False\n"
     ]
    }
   ],
   "source": [
    "def is_rotation(l1,l2):\n",
    "    if len(l1)!= len(l2):\n",
    "        return False\n",
    "    else:\n",
    "        for i in range(len(l1)):\n",
    "            temp=l1[i:]+l1[:i]\n",
    "            if temp==l2:\n",
    "                return True\n",
    "        return False\n",
    "\n",
    "list1 = [1, 2, 3, 4, 5, 6, 7]\n",
    "list2a = [4, 5, 6, 7, 8, 1, 2, 3]\n",
    "print(is_rotation(list1, list2a))\n",
    "#should return False.\n",
    "list2b = [4, 5, 6, 7, 1, 2, 3]\n",
    "print(is_rotation(list1, list2b))\n",
    "#should return True.\n",
    "list2c = [4, 5, 6, 9, 1, 2, 3]\n",
    "print(is_rotation(list1, list2c))\n",
    "#should return False.\n",
    "list2d = [4, 6, 5, 7, 1, 2, 3]\n",
    "print(is_rotation(list1, list2d))\n",
    "#should return False."
   ]
  },
  {
   "cell_type": "code",
   "execution_count": 79,
   "metadata": {},
   "outputs": [
    {
     "name": "stdout",
     "output_type": "stream",
     "text": [
      "c\n",
      "None\n",
      "c\n",
      "d\n"
     ]
    }
   ],
   "source": [
    "#first first non-recurring\n",
    "\n",
    "def non_recur(s):\n",
    "    d1={}\n",
    "    ans=[]\n",
    "    \n",
    "    if len(s)==0:\n",
    "        return None\n",
    "    else:\n",
    "        for i in s:\n",
    "            if i in d1:\n",
    "                d1[i]=d1[i]+1\n",
    "            else:\n",
    "                d1[i]=1\n",
    "            \n",
    "            if d1[i]==1:\n",
    "                ans.append(i)\n",
    "            elif d1[i]>1 and i in ans:\n",
    "                ans.remove(i)\n",
    "    if len(ans)>0:\n",
    "        return ans[0]\n",
    "    else:\n",
    "        return None\n",
    "    \n",
    "print(non_recur(\"abcab\"))\n",
    "print(non_recur(\"abab\"))\n",
    "print(non_recur(\"aabbbc\"))\n",
    "print(non_recur(\"aabbdbc\"))"
   ]
  },
  {
   "cell_type": "code",
   "execution_count": 80,
   "metadata": {},
   "outputs": [
    {
     "data": {
      "text/plain": [
       "True"
      ]
     },
     "execution_count": 80,
     "metadata": {},
     "output_type": "execute_result"
    }
   ],
   "source": [
    "# One away strings\n",
    "\n",
    "\n",
    "def is_one_away(s1, s2):\n",
    "    if len(s1) - len(s2) >= 2 or len(s2) - len(s1) >= 2:\n",
    "        return False\n",
    "    elif len(s1) == len(s2):\n",
    "        return is_one_away_same_length(s1, s2)\n",
    "    elif len(s1) > len(s2):\n",
    "        return is_one_away_diff_lengths(s1, s2)\n",
    "    else:\n",
    "        return is_one_away_diff_lengths(s2, s1)\n",
    "\n",
    "\n",
    "def is_one_away_same_length(s1, s2):\n",
    "    count_diff = 0\n",
    "    for i in range(len(s1)):\n",
    "        if not s1[i] == s2[i]:\n",
    "            count_diff += 1\n",
    "            if count_diff > 1:\n",
    "                return False\n",
    "    return True\n",
    "\n",
    "\n",
    "# Assumption: len(s1) == len(s2) + 1\n",
    "def is_one_away_diff_lengths(s1, s2):\n",
    "    i = 0\n",
    "    count_diff = 0\n",
    "    while i < len(s2):\n",
    "        if s1[i + count_diff] == s2[i]:\n",
    "            i += 1\n",
    "        else:\n",
    "            count_diff += 1\n",
    "            if count_diff > 1:\n",
    "                return False\n",
    "    return True\n",
    "\n",
    "is_one_away(\"abcde\", \"abcd\")  # should return True"
   ]
  },
  {
   "cell_type": "code",
   "execution_count": 81,
   "metadata": {},
   "outputs": [
    {
     "data": {
      "text/plain": [
       "[[0, 1, -1], [1, 2, 1], [-1, 1, 0]]"
      ]
     },
     "execution_count": 81,
     "metadata": {},
     "output_type": "execute_result"
    }
   ],
   "source": [
    "# Implement your function below.\n",
    "\n",
    "# Assign numbers in minesweeper\n",
    "\n",
    "def mine_sweeper(bombs, num_rows, num_cols):\n",
    "    # NOTE: field = [[0] * num_cols] * num_rows would not work\n",
    "    # because you need to create a new list for every row,\n",
    "    # instead of copying the same list.\n",
    "    field = [[0 for i in range(num_cols)] for j in range(num_rows)]\n",
    "    for bomb in bombs:\n",
    "        (row_i, col_i) = bomb\n",
    "        field[row_i][col_i] = -1\n",
    "        for i in range(row_i - 1, row_i + 2):\n",
    "            for j in range(col_i - 1, col_i + 2):\n",
    "                if (0 <= i < num_rows and 0 <= j < num_cols\n",
    "                        and field[i][j] != -1):\n",
    "                    field[i][j] += 1\n",
    "    return field\n",
    "\n",
    "\n",
    "# NOTE: Feel free to use the following function for testing.\n",
    "# It converts a 2-dimensional array (a list of lists) into\n",
    "# an easy-to-read string format.\n",
    "def to_string(given_array):\n",
    "    list_rows = []\n",
    "    for row in given_array:\n",
    "        list_rows.append(str(row))\n",
    "    return '[' + ',\\n '.join(list_rows) + ']'\n",
    "\n",
    "\n",
    "mine_sweeper([[0, 2], [2, 0]], 3, 3)"
   ]
  },
  {
   "cell_type": "code",
   "execution_count": 82,
   "metadata": {},
   "outputs": [
    {
     "data": {
      "text/plain": [
       "[[0, 0, 0, 0, 0], [0, 1, 1, 1, 0], [0, 1, -1, 1, 0]]"
      ]
     },
     "execution_count": 82,
     "metadata": {},
     "output_type": "execute_result"
    }
   ],
   "source": [
    "# find where to expand in minesweeper\n",
    "\n",
    "def click(field, num_rows, num_cols, given_i, given_j):\n",
    "    import queue\n",
    "    to_check = queue.Queue()\n",
    "    if field[given_i][given_j] == 0:\n",
    "        field[given_i][given_j] = -2\n",
    "        to_check.put((given_i, given_j))\n",
    "    else:\n",
    "        return field\n",
    "    while not to_check.empty():\n",
    "        (current_i, current_j) = to_check.get()\n",
    "        for i in range(current_i - 1, current_i + 2):\n",
    "            for j in range(current_j - 1, current_j + 2):\n",
    "                if (0 <= i < num_rows and 0 <= j < num_cols\n",
    "                        and field[i][j] == 0):\n",
    "                    field[i][j] = -2\n",
    "                    to_check.put((i, j))\n",
    "    return field\n",
    "\n",
    "\n",
    "# NOTE: Feel free to use the following function for testing.\n",
    "# It converts a 2-dimensional array (a list of lists) into\n",
    "# an easy-to-read string format.\n",
    "def to_string(given_array):\n",
    "    list_rows = []\n",
    "    for row in given_array:\n",
    "        list_rows.append(str(row))\n",
    "    return '[' + ',\\n '.join(list_rows) + ']'\n",
    "\n",
    "\n",
    "# NOTE: The following input values will be used for testing your solution.\n",
    "field1 = [[0, 0, 0, 0, 0],\n",
    "          [0, 1, 1, 1, 0],\n",
    "          [0, 1, -1, 1, 0]]\n",
    "\n",
    "click(field1, 3, 5, 2, 2)"
   ]
  },
  {
   "cell_type": "code",
   "execution_count": 83,
   "metadata": {},
   "outputs": [],
   "source": [
    "#rotate an array\n",
    "\n",
    "def rotate(given_array, n):\n",
    "    rotated = copy.deepcopy(given_array)\n",
    "    for i in range(n):\n",
    "        for j in range(n):\n",
    "            (new_i, new_j) = rotate_sub(i, j, n)\n",
    "            rotated[new_i][new_j] = given_array[i][j]\n",
    "    return rotated\n",
    "\n",
    "\n",
    "def rotate_sub(i, j, n):\n",
    "    return j, n - 1 - i"
   ]
  },
  {
   "cell_type": "code",
   "execution_count": 84,
   "metadata": {},
   "outputs": [
    {
     "name": "stdout",
     "output_type": "stream",
     "text": [
      "Mon\n",
      "Tue\n",
      "Wed\n"
     ]
    }
   ],
   "source": [
    "#nth element of linked list\n",
    "\n",
    "\n",
    "class Node:\n",
    "   def __init__(self, dataval=None):\n",
    "      self.dataval = dataval\n",
    "      self.nextval = None\n",
    "\n",
    "class SLinkedList:\n",
    "   def __init__(self):\n",
    "      self.headval = None\n",
    "\n",
    "   def listprint(self):\n",
    "      printval = self.headval\n",
    "      while printval is not None:\n",
    "         print (printval.dataval)\n",
    "         printval = printval.nextval\n",
    "\n",
    "list = SLinkedList()\n",
    "list.headval = Node(\"Mon\")\n",
    "e2 = Node(\"Tue\")\n",
    "e3 = Node(\"Wed\")\n",
    "\n",
    "# Link first Node to second node\n",
    "list.headval.nextval = e2\n",
    "\n",
    "# Link second Node to third node\n",
    "e2.nextval = e3\n",
    "\n",
    "list.listprint()"
   ]
  },
  {
   "cell_type": "code",
   "execution_count": 85,
   "metadata": {},
   "outputs": [
    {
     "name": "stdout",
     "output_type": "stream",
     "text": [
      "3\n",
      "6\n",
      "12\n",
      "14\n"
     ]
    }
   ],
   "source": [
    "class Node:\n",
    "\n",
    "    def __init__(self, data):\n",
    "\n",
    "        self.left = None\n",
    "        self.right = None\n",
    "        self.data = data\n",
    "\n",
    "    def insert(self, data):\n",
    "# Compare the new value with the parent node\n",
    "        if self.data:\n",
    "            if data < self.data:\n",
    "                if self.left is None:\n",
    "                    self.left = Node(data)\n",
    "                else:\n",
    "                    self.left.insert(data)\n",
    "            elif data > self.data:\n",
    "                if self.right is None:\n",
    "                    self.right = Node(data)\n",
    "                else:\n",
    "                    self.right.insert(data)\n",
    "        else:\n",
    "            self.data = data\n",
    "\n",
    "# Print the tree\n",
    "    def PrintTree(self):\n",
    "        if self.left:\n",
    "            self.left.PrintTree()\n",
    "        print( self.data),\n",
    "        if self.right:\n",
    "            self.right.PrintTree()\n",
    "\n",
    "# Use the insert method to add nodes\n",
    "root = Node(12)\n",
    "root.insert(6)\n",
    "root.insert(14)\n",
    "root.insert(3)\n",
    "\n",
    "root.PrintTree()\n"
   ]
  },
  {
   "cell_type": "code",
   "execution_count": 86,
   "metadata": {},
   "outputs": [
    {
     "data": {
      "text/plain": [
       "6"
      ]
     },
     "execution_count": 86,
     "metadata": {},
     "output_type": "execute_result"
    }
   ],
   "source": [
    "\n",
    "#find greatest common divisor\n",
    "\n",
    "def find_factors(n):\n",
    "    factors=[]\n",
    "    for i in range(1,n+1):\n",
    "        if n % i ==0:\n",
    "            factors.append(i)\n",
    "    return factors\n",
    "\n",
    "def gcd(l):\n",
    "    dicts={}\n",
    "    for i in l:\n",
    "        for factor in find_factors(i):\n",
    "            if factor in dicts:\n",
    "                dicts[factor]=dicts[factor]+[i]\n",
    "            else:\n",
    "                dicts[factor]=[i]\n",
    "    \n",
    "    mx=0\n",
    "    for k , v in dicts.items():\n",
    "        if v==l:\n",
    "            if k > mx:\n",
    "                mx=k\n",
    "    return mx\n",
    "\n",
    "gcd([18,6,6,36])"
   ]
  },
  {
   "cell_type": "code",
   "execution_count": 88,
   "metadata": {},
   "outputs": [
    {
     "name": "stdout",
     "output_type": "stream",
     "text": [
      "a\n",
      "b\n",
      "d\n",
      "e\n",
      "c\n"
     ]
    },
    {
     "data": {
      "text/plain": [
       "{'a', 'b', 'c', 'd', 'e'}"
      ]
     },
     "execution_count": 88,
     "metadata": {},
     "output_type": "execute_result"
    }
   ],
   "source": [
    "class graph:\n",
    "\n",
    "    def __init__(self,gdict=None):\n",
    "        if gdict is None:\n",
    "            gdict = {}\n",
    "        self.gdict = gdict\n",
    "# Check for the visisted and unvisited nodes\n",
    "def dfs(graph, start, visited = None):\n",
    "    if visited is None:\n",
    "        visited = set()\n",
    "    visited.add(start)\n",
    "    print(start)\n",
    "    for next in graph[start] - visited:\n",
    "        dfs(graph, next, visited)\n",
    "    return visited\n",
    "\n",
    "gdict = { \"a\" : set([\"b\",\"c\"]),\n",
    "                \"b\" : set([\"a\", \"d\"]),\n",
    "                \"c\" : set([\"a\", \"d\"]),\n",
    "                \"d\" : set([\"e\"]),\n",
    "                \"e\" : set([\"a\"])\n",
    "                }\n",
    "\n",
    "\n",
    "dfs(gdict, 'a')"
   ]
  },
  {
   "cell_type": "code",
   "execution_count": 89,
   "metadata": {},
   "outputs": [
    {
     "data": {
      "text/plain": [
       "[2, 11, 11, 19, 27, 30, 31, 45, 121]"
      ]
     },
     "execution_count": 89,
     "metadata": {},
     "output_type": "execute_result"
    }
   ],
   "source": [
    "# write a function to merge sort a list\n",
    "\n",
    "def merge_sort(l):\n",
    "    if len(l)==1:\n",
    "        return l\n",
    "    middle= len(l) // 2\n",
    "    left_half=l[:middle]\n",
    "    right_half=l[middle:]\n",
    "    return merge(merge_sort(left_half),merge_sort(right_half))\n",
    "    \n",
    "    \n",
    "def merge(left_half,right_half):\n",
    "    res=[]\n",
    "    while len(left_half) != 0 and len(right_half) !=0:\n",
    "        if left_half[0] < right_half[0]:\n",
    "            res.append(left_half[0])\n",
    "            left_half.remove(left_half[0])\n",
    "        else:\n",
    "            res.append(right_half[0])\n",
    "            right_half.remove(right_half[0])\n",
    "    if len(left_half)==0:\n",
    "        res=res+right_half\n",
    "    elif len(right_half)==0:\n",
    "        res=res+left_half\n",
    "    return res\n",
    "\n",
    "\n",
    "merge_sort([2, 11, 19, 27, 30, 11, 31, 45, 121])"
   ]
  },
  {
   "cell_type": "code",
   "execution_count": 91,
   "metadata": {},
   "outputs": [
    {
     "data": {
      "text/plain": [
       "[1, 2, 3, 4, 6, 8]"
      ]
     },
     "execution_count": 91,
     "metadata": {},
     "output_type": "execute_result"
    }
   ],
   "source": [
    "# write a function to bubble sort a list or array\n",
    "\n",
    "l=[1]\n",
    "l=[1,4,3]\n",
    "\n",
    "def bubblesort(a):\n",
    "    if len(a)==1:\n",
    "        return a\n",
    "    \n",
    "    for i in range(0,len(a)-1):\n",
    "        for j in range(1,len(a)-i):\n",
    "            if a[j] < a[j-1]:\n",
    "                temp=a[j-1]\n",
    "                a[j-1]=a[j]\n",
    "                a[j]=temp\n",
    "    return a\n",
    "\n",
    "bubblesort([3,4,6,8,2,1])\n",
    "\n"
   ]
  },
  {
   "cell_type": "code",
   "execution_count": null,
   "metadata": {},
   "outputs": [],
   "source": [
    "#longest unique string\n",
    "\n",
    "def foo(s):\n",
    "    idxst=0\n",
    "    idxen=idxst+1\n",
    "    longest=\"\"\n",
    "    while idxst <len(s) and idxen <len(s):\n",
    "        if s[idxen] in s[idxst:idxen]:\n",
    "            idxst=idxst+(idxen-idxst)\n",
    "            idxen=idxen+1\n",
    "        else:\n",
    "            idxen=idxen+1\n",
    "            if len(s[idxst:idxen]) > len(longest):\n",
    "                longest=s[idxst:idxen]\n",
    "    return longest\n",
    "\n",
    "foo(\"abcibjkjlmnbopghdes\")"
   ]
  }
 ],
 "metadata": {
  "kernelspec": {
   "display_name": "Python 3",
   "language": "python",
   "name": "python3"
  },
  "language_info": {
   "codemirror_mode": {
    "name": "ipython",
    "version": 3
   },
   "file_extension": ".py",
   "mimetype": "text/x-python",
   "name": "python",
   "nbconvert_exporter": "python",
   "pygments_lexer": "ipython3",
   "version": "3.6.8"
  }
 },
 "nbformat": 4,
 "nbformat_minor": 2
}
