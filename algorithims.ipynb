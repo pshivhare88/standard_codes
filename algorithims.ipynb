{
 "cells": [
  {
   "cell_type": "code",
   "execution_count": 16,
   "metadata": {},
   "outputs": [
    {
     "data": {
      "text/plain": [
       "[1, 2, 3, 4, 6, 8]"
      ]
     },
     "execution_count": 16,
     "metadata": {},
     "output_type": "execute_result"
    }
   ],
   "source": [
    "# write a function to bubble sort a list or array\n",
    "\n",
    "l=[1]\n",
    "l=[1,4,3]\n",
    "\n",
    "def bubblesort(a):\n",
    "    if len(a)==1:\n",
    "        return a\n",
    "    \n",
    "    for i in range(0,len(a)-1):\n",
    "        for j in range(1,len(a)-i):\n",
    "            if a[j] < a[j-1]:\n",
    "                temp=a[j-1]\n",
    "                a[j-1]=a[j]\n",
    "                a[j]=temp\n",
    "    return a\n",
    "\n",
    "bubblesort([3,4,6,8,2,1])\n",
    "\n",
    "\n",
    "#time complexity is O(n**2)"
   ]
  },
  {
   "cell_type": "code",
   "execution_count": 25,
   "metadata": {},
   "outputs": [
    {
     "data": {
      "text/plain": [
       "[2, 11, 11, 19, 27, 30, 31, 45, 121]"
      ]
     },
     "execution_count": 25,
     "metadata": {},
     "output_type": "execute_result"
    }
   ],
   "source": [
    "# write a function to merge sort a list\n",
    "\n",
    "def merge_sort(l):\n",
    "    if len(l)==1:\n",
    "        return l\n",
    "    middle= len(l) // 2\n",
    "    left_half=l[:middle]\n",
    "    right_half=l[middle:]\n",
    "    return merge(merge_sort(left_half),merge_sort(right_half))\n",
    "    \n",
    "    \n",
    "def merge(left_half,right_half):\n",
    "    res=[]\n",
    "    while len(left_half) != 0 and len(right_half) !=0:\n",
    "        if left_half[0] < right_half[0]:\n",
    "            res.append(left_half[0])\n",
    "            left_half.remove(left_half[0])\n",
    "        else:\n",
    "            res.append(right_half[0])\n",
    "            right_half.remove(right_half[0])\n",
    "    if len(left_half)==0:\n",
    "        res=res+right_half\n",
    "    elif len(right_half)==0:\n",
    "        res=res+left_half\n",
    "    return res\n",
    "\n",
    "\n",
    "merge_sort([2, 11, 19, 27, 30, 11, 31, 45, 121])"
   ]
  },
  {
   "cell_type": "code",
   "execution_count": 31,
   "metadata": {},
   "outputs": [
    {
     "data": {
      "text/plain": [
       "[1, 2, 5, 4, 10]"
      ]
     },
     "execution_count": 31,
     "metadata": {},
     "output_type": "execute_result"
    }
   ],
   "source": [
    "#write a function to merge two sorted list \n",
    "\n",
    "def merge(l1,l2):\n",
    "    res=[]\n",
    "    i=0\n",
    "    j=0\n",
    "    while i < len(l1) and j < len(l2):\n",
    "        if l1[i] < l2[j]:\n",
    "            res.append(l1[i])\n",
    "            i=i+1\n",
    "        else:\n",
    "            res.append(l2[j])\n",
    "            j=j+1\n",
    "    if i==len(l1):\n",
    "        res=res+l2[j:]\n",
    "    elif j==len(l2):\n",
    "        res=res+l1[i:]\n",
    "    return res\n",
    "\n",
    "merge([1,2,10],[5,4])"
   ]
  },
  {
   "cell_type": "code",
   "execution_count": 44,
   "metadata": {},
   "outputs": [
    {
     "data": {
      "text/plain": [
       "1"
      ]
     },
     "execution_count": 44,
     "metadata": {},
     "output_type": "execute_result"
    }
   ],
   "source": [
    "# write a function to perform binary search in a sorted list using divide and conquer algorithim\n",
    "\n",
    "\n",
    "#l=[] , 1\n",
    "#l=[1] , 1\n",
    "#l=[1,2,3], 1       0 , 2 , 1 --> 0, 0, 0 , 0\n",
    "\n",
    "def bsearch(l,value):\n",
    "    idxst=0\n",
    "    idxen=len(l)-1\n",
    "    while idxst <= idxen:\n",
    "        mididx= (idxst+idxen) // 2\n",
    "        if l[mididx]==value:\n",
    "            return mididx\n",
    "        if l[mididx] < value:\n",
    "            idxst=mididx +1\n",
    "        else:\n",
    "            idxen=mididx-1\n",
    "    if (len(l)==0) | (idxst > idxen):\n",
    "        return \"not found\"\n",
    "\n",
    "bsearch([2,7,19,34,53,72], 7)\n",
    "                  "
   ]
  },
  {
   "cell_type": "code",
   "execution_count": 57,
   "metadata": {},
   "outputs": [
    {
     "data": {
      "text/plain": [
       "'not found'"
      ]
     },
     "execution_count": 57,
     "metadata": {},
     "output_type": "execute_result"
    }
   ],
   "source": [
    "# write a function to perform binary search in a sorted list using recurssion\n",
    "\n",
    "def helper(l, idxst, idxen, value):\n",
    "    if (idxst > idxen) | (len(l) == 0):\n",
    "        return \"not found\"\n",
    "    midval= (idxst+idxen) // 2\n",
    "    if l[midval]==value:\n",
    "        return midval\n",
    "    elif l[midval] < value:\n",
    "        return helper(l,midval+1,idxen,value)\n",
    "    else:\n",
    "        return helper(l,idxst,midval-1,value)\n",
    "\n",
    "def bsearch(l,value):\n",
    "    idxst=0\n",
    "    idxen=len(l)-1\n",
    "    return helper(l,idxst,idxen,value)\n",
    "\n",
    "bsearch([], 2)"
   ]
  },
  {
   "cell_type": "code",
   "execution_count": 75,
   "metadata": {},
   "outputs": [
    {
     "data": {
      "text/plain": [
       "2"
      ]
     },
     "execution_count": 75,
     "metadata": {},
     "output_type": "execute_result"
    }
   ],
   "source": [
    "    def find_factors(n):\n",
    "        factors=[]\n",
    "        for i in range(2,n+1):\n",
    "            if n % i ==0:\n",
    "                factors.append(i)\n",
    "        return factors\n",
    "\n",
    "\n",
    "    def dfs(graph,start,visited=None):\n",
    "        if visited==None:\n",
    "            visited=set()\n",
    "        visited.add(start)\n",
    "        for nx in set(graph[start]) - visited:\n",
    "            dfs(graph,nx,visited)\n",
    "        return visited\n",
    "\n",
    "    def graph(l):\n",
    "        graph={}\n",
    "        for i in range(0,len(l)):\n",
    "            for j in range(i+1,len(l)):\n",
    "                if l[i] not in graph:\n",
    "                    graph[l[i]]=[]\n",
    "                if l[j] not in graph:\n",
    "                    graph[l[j]]=[]\n",
    "                if len(set(find_factors(l[i])+find_factors(l[j]))) < len(find_factors(l[i])+find_factors(l[j])):\n",
    "                    graph[l[i]]=graph[l[i]]+[l[j]]\n",
    "                    graph[l[j]]=graph[l[j]]+[l[i]]\n",
    "        mx=0\n",
    "        for i in l:\n",
    "            if len(dfs(graph,i)) > mx:\n",
    "                mx=len(dfs(graph,i))\n",
    "        return mx\n",
    "\n",
    "graph([20,50,9,63])\n",
    "        "
   ]
  },
  {
   "cell_type": "code",
   "execution_count": 79,
   "metadata": {},
   "outputs": [
    {
     "data": {
      "text/plain": [
       "34"
      ]
     },
     "execution_count": 79,
     "metadata": {},
     "output_type": "execute_result"
    }
   ],
   "source": [
    "# write a function to return nth item of a fibonacci series\n",
    "\n",
    "def fibo(n):\n",
    "    fib=[0,1]\n",
    "    if n <=2:\n",
    "        return fib[n-1]\n",
    "    else:\n",
    "        for i in range(1,n-1):\n",
    "            temp=fib[i]+fib[i-1]\n",
    "            fib.append(temp)\n",
    "    return fib[n-1]\n",
    "fibo(10)"
   ]
  },
  {
   "cell_type": "code",
   "execution_count": 10,
   "metadata": {},
   "outputs": [
    {
     "data": {
      "text/plain": [
       "1"
      ]
     },
     "execution_count": 10,
     "metadata": {},
     "output_type": "execute_result"
    }
   ],
   "source": [
    "# write a funtion to return the position of the maximum element in the list\n",
    "\n",
    "def max_position(l):\n",
    "    if len(l)==1:\n",
    "        return 0\n",
    "    if len(l) == 0:\n",
    "        return \"Empty List\"\n",
    "    idxst=0\n",
    "    idxen=1\n",
    "    max_idx=None\n",
    "    while idxst < len(l) and idxen <len(l):\n",
    "        if l[idxst]>l[idxen]:\n",
    "            idxen=idxen+1\n",
    "            max_idx=idxst\n",
    "        else:\n",
    "            max_idx=idxen\n",
    "            idxst=idxst+idxen\n",
    "            idxen=idxst+1\n",
    "            \n",
    "    return max_idx\n",
    "\n",
    "\n",
    "max_position([56,203,3,78,85,9])"
   ]
  },
  {
   "cell_type": "code",
   "execution_count": 94,
   "metadata": {},
   "outputs": [
    {
     "data": {
      "text/plain": [
       "[3, 4, 1, 2]"
      ]
     },
     "execution_count": 94,
     "metadata": {},
     "output_type": "execute_result"
    }
   ],
   "source": [
    "# write a function to rotate an array\n",
    "\n",
    "def rotate(l,d):\n",
    "    return l[d:] + l[:d]\n",
    "\n",
    "rotate([1,2,3,4], 2)"
   ]
  },
  {
   "cell_type": "code",
   "execution_count": 97,
   "metadata": {},
   "outputs": [
    {
     "data": {
      "text/plain": [
       "'shine sun Morning Good'"
      ]
     },
     "execution_count": 97,
     "metadata": {},
     "output_type": "execute_result"
    }
   ],
   "source": [
    "#write a function to reverse a sentence\n",
    "\n",
    "def rs(s):\n",
    "    return \" \".join(s.split(\" \")[::-1])\n",
    "rs(\"Good Morning sun shine\")"
   ]
  },
  {
   "cell_type": "code",
   "execution_count": 104,
   "metadata": {},
   "outputs": [
    {
     "data": {
      "text/plain": [
       "False"
      ]
     },
     "execution_count": 104,
     "metadata": {},
     "output_type": "execute_result"
    }
   ],
   "source": [
    "#write a function to find if a string is palindrome\n",
    "\n",
    "def palindrome(s):\n",
    "    return (str(s)==str(s)[::-1])\n",
    "palindrome('123')"
   ]
  },
  {
   "cell_type": "code",
   "execution_count": 117,
   "metadata": {},
   "outputs": [
    {
     "data": {
      "text/plain": [
       "[{2, 3}, {1, 4}]"
      ]
     },
     "execution_count": 117,
     "metadata": {},
     "output_type": "execute_result"
    }
   ],
   "source": [
    "# write a function to return all possible pairs that sum upto a given value\n",
    "def sum_check(l,n):\n",
    "    dicts={}\n",
    "    pairs=[]\n",
    "    for i in l:\n",
    "        if (n - i in dicts) and dicts[n-i]==True:\n",
    "            pairs.append(set([i,n-i]))\n",
    "            dicts[n-i]=False\n",
    "        else:\n",
    "            dicts[i]=True\n",
    "    return pairs\n",
    "            \n",
    "sum_check([1,1,2,3,4,4],5)"
   ]
  },
  {
   "cell_type": "code",
   "execution_count": 124,
   "metadata": {},
   "outputs": [
    {
     "data": {
      "text/plain": [
       "2"
      ]
     },
     "execution_count": 124,
     "metadata": {},
     "output_type": "execute_result"
    }
   ],
   "source": [
    "# write a function to return first non recurring item in the list\n",
    "\n",
    "# 1,2,1,3\n",
    "\n",
    "def f_non(l):\n",
    "    if len(l)==0:\n",
    "        return \"\"\n",
    "    if len(l)==1:\n",
    "        return l[0]\n",
    "    dicts={}\n",
    "    ans=[]\n",
    "    for i in l[::-1]:\n",
    "        if i in dicts:\n",
    "            if i in ans:\n",
    "                ans.remove(i) \n",
    "        else:\n",
    "            dicts[i]=True\n",
    "            ans.append(i)\n",
    "    return ans[-1]\n",
    "f_non([1,2,1,1,3])"
   ]
  },
  {
   "cell_type": "code",
   "execution_count": 128,
   "metadata": {},
   "outputs": [
    {
     "name": "stdout",
     "output_type": "stream",
     "text": [
      "{1: 4, 2: 1, 3: 5, 4: 2, 5: 1, 6: 1}\n"
     ]
    },
    {
     "data": {
      "text/plain": [
       "3"
      ]
     },
     "execution_count": 128,
     "metadata": {},
     "output_type": "execute_result"
    }
   ],
   "source": [
    "# write a function to return the most recurring item in the list\n",
    "\n",
    "def most_recur(l):\n",
    "    if len(l)==0:\n",
    "        return \"\"\n",
    "    dicts={}\n",
    "    most_recur=None\n",
    "    most_recur_index=0\n",
    "    for i in l:\n",
    "        if i in dicts:\n",
    "            dicts[i]=dicts[i]+1\n",
    "            if dicts[i] > most_recur_index:\n",
    "                most_recur_index=dicts[i]\n",
    "                most_recur=i\n",
    "        else:\n",
    "            dicts[i]=1\n",
    "            if dicts[i] > most_recur_index:\n",
    "                most_recur_index=dicts[i]\n",
    "                most_recur=i\n",
    "    return most_recur\n",
    "most_recur([1,1,1,1,2,3,4,5,6,3,4,3,3,3])"
   ]
  },
  {
   "cell_type": "code",
   "execution_count": 137,
   "metadata": {},
   "outputs": [
    {
     "data": {
      "text/plain": [
       "6"
      ]
     },
     "execution_count": 137,
     "metadata": {},
     "output_type": "execute_result"
    }
   ],
   "source": [
    "# find gcd\n",
    "\n",
    "def find_factors(n):\n",
    "    factors=[]\n",
    "    for i in range(1,n+1):\n",
    "        if n % i ==0:\n",
    "            factors.append(i)\n",
    "    return factors\n",
    "\n",
    "def gcd(l):\n",
    "    dicts={}\n",
    "    for i in l:\n",
    "        for factor in find_factors(i):\n",
    "            if factor in dicts:\n",
    "                dicts[factor]=dicts[factor]+[i]\n",
    "            else:\n",
    "                dicts[factor]=[i]\n",
    "    \n",
    "    mx=0\n",
    "    for k , v in dicts.items():\n",
    "        if v==l:\n",
    "            if k > mx:\n",
    "                mx=k\n",
    "    return mx\n",
    "\n",
    "gcd([18,6,6,36])"
   ]
  },
  {
   "cell_type": "code",
   "execution_count": 139,
   "metadata": {},
   "outputs": [
    {
     "data": {
      "text/plain": [
       "['abcdef',\n",
       " 'bcdefa',\n",
       " 'cdefab',\n",
       " 'defabc',\n",
       " 'efabcd',\n",
       " 'fabcde',\n",
       " 'fedcba',\n",
       " 'edcbaf',\n",
       " 'dcbafe',\n",
       " 'cbafed',\n",
       " 'bafedc',\n",
       " 'afedcb']"
      ]
     },
     "execution_count": 139,
     "metadata": {},
     "output_type": "execute_result"
    }
   ],
   "source": [
    "\n",
    "def helper(s):\n",
    "    res=[]\n",
    "    for i in range(0,len(s)):\n",
    "        res= res+ [s[i:] + s[:i]]\n",
    "    return res\n",
    "\n",
    "def foo(s):\n",
    "    if len(s)<=1:\n",
    "        return s\n",
    "    return helper(s) + helper(s[::-1])\n",
    "\n",
    "foo(\"abcdef\")"
   ]
  },
  {
   "cell_type": "code",
   "execution_count": 7,
   "metadata": {},
   "outputs": [
    {
     "data": {
      "text/plain": [
       "'jlmnbopghdes'"
      ]
     },
     "execution_count": 7,
     "metadata": {},
     "output_type": "execute_result"
    }
   ],
   "source": [
    "# write a function to find longest substring\n",
    "\n",
    "#abc --> abc\n",
    "#aab --> ab\n",
    "#aacdefc\n",
    "\n",
    "def foo(s):\n",
    "    idxst=0\n",
    "    idxen=idxst+1\n",
    "    longest=\"\"\n",
    "    while idxst <len(s) and idxen <len(s):\n",
    "        if s[idxen] in s[idxst:idxen]:\n",
    "            idxst=idxst+(idxen-idxst)\n",
    "            idxen=idxen+1\n",
    "        else:\n",
    "            idxen=idxen+1\n",
    "            if len(s[idxst:idxen]) > len(longest):\n",
    "                longest=s[idxst:idxen]\n",
    "    return longest\n",
    "\n",
    "foo(\"abcibjkjlmnbopghdes\")"
   ]
  },
  {
   "cell_type": "code",
   "execution_count": 9,
   "metadata": {},
   "outputs": [
    {
     "data": {
      "text/plain": [
       "[[1, 2, 3], [...], [2, 3], [...], [3]]"
      ]
     },
     "execution_count": 9,
     "metadata": {},
     "output_type": "execute_result"
    }
   ],
   "source": [
    "def helper(l,subsets,idxst,idxen):\n",
    "    if len(l)<=1:\n",
    "        return l\n",
    "    while idxst <idxen:\n",
    "        subsets.append(l[idxst:idxen])\n",
    "        idxen=idxen-1\n",
    "        return subsets\n",
    "\n",
    "def foo(l):\n",
    "    idxst=0\n",
    "    idxen=len(l)\n",
    "    subsets=[]\n",
    "    i=0\n",
    "    while i < len(l):\n",
    "        subsets.append(helper(l[i:],subsets,idxst,idxen))\n",
    "        i=i+1\n",
    "    return subsets\n",
    "\n",
    "foo([1,2,3])\n",
    "\n",
    "#using recurssion\n",
    "\n"
   ]
  },
  {
   "cell_type": "code",
   "execution_count": 24,
   "metadata": {},
   "outputs": [
    {
     "data": {
      "text/plain": [
       "[[None, None, None, None, None],\n",
       " [None, None, None, None, None],\n",
       " [None, None, None, None, None],\n",
       " [None, None, None, None, None]]"
      ]
     },
     "execution_count": 24,
     "metadata": {},
     "output_type": "execute_result"
    }
   ],
   "source": [
    "l = [[None]*5]*4\n",
    "l"
   ]
  },
  {
   "cell_type": "code",
   "execution_count": 26,
   "metadata": {},
   "outputs": [
    {
     "data": {
      "text/plain": [
       "3"
      ]
     },
     "execution_count": 26,
     "metadata": {},
     "output_type": "execute_result"
    }
   ],
   "source": [
    "def most_frequent(l):\n",
    "    dicts={}\n",
    "    mf_value=None\n",
    "    mf_count=0\n",
    "    \n",
    "    if len(l)<=1:\n",
    "        return l\n",
    "    \n",
    "    for i in l:\n",
    "        if i in dicts:\n",
    "            dicts[i]=dicts[i]+1\n",
    "        else:\n",
    "            dicts[i]=1\n",
    "        if mf_count < dicts[i]:\n",
    "            mf_count=dicts[i]\n",
    "            mf_value=i\n",
    "    return mf_value\n",
    "\n",
    "most_frequent([1,2,3,4,3,2,3])"
   ]
  },
  {
   "cell_type": "code",
   "execution_count": 28,
   "metadata": {},
   "outputs": [
    {
     "data": {
      "text/plain": [
       "[(4, 5), (3, 6), (7, 2), (0, 9), (6, 3), (1, 8), (5, 4)]"
      ]
     },
     "execution_count": 28,
     "metadata": {},
     "output_type": "execute_result"
    }
   ],
   "source": [
    "def two_sum(l,n):\n",
    "    dicts={}\n",
    "    pairs=[]\n",
    "\n",
    "    for i in l:\n",
    "        if n-i in dicts and dicts[n-i]:\n",
    "            pairs.append((n-i,i))\n",
    "            dicts[n-i]=False\n",
    "            dicts[i]=False\n",
    "        else:\n",
    "            dicts[i]=True\n",
    "    return pairs\n",
    "two_sum([1,4,5,3,6,7,2,0,9,5,6,3,2,56,8,9,6,4],9)"
   ]
  },
  {
   "cell_type": "code",
   "execution_count": 30,
   "metadata": {},
   "outputs": [
    {
     "data": {
      "text/plain": [
       "[1, 7, 0, 56, 8]"
      ]
     },
     "execution_count": 30,
     "metadata": {},
     "output_type": "execute_result"
    }
   ],
   "source": [
    "def first_non_recur(l,n):\n",
    "    dicts={}\n",
    "    ans=[]\n",
    "\n",
    "    for i in l:\n",
    "        if i in dicts and dicts[i]:\n",
    "            ans.remove(i)\n",
    "            dicts[i]=False\n",
    "        elif i not in dicts:\n",
    "            dicts[i]=True\n",
    "            ans.append(i)\n",
    "    return ans[0]\n",
    "first_non_recur([1,4,5,3,6,7,2,0,9,5,6,3,2,56,8,9,6,4],9)"
   ]
  },
  {
   "cell_type": "code",
   "execution_count": 33,
   "metadata": {},
   "outputs": [
    {
     "data": {
      "text/plain": [
       "[4, 9, 76]"
      ]
     },
     "execution_count": 33,
     "metadata": {},
     "output_type": "execute_result"
    }
   ],
   "source": [
    "def common_elements(l1,l2):\n",
    "    i=0\n",
    "    j=0\n",
    "    common=[]\n",
    "    while i<len(l1) and j<len(l2):\n",
    "        if l1[i]==l2[j]:\n",
    "            common.append(l1[i])\n",
    "            i=i+1\n",
    "            j=j+1\n",
    "        elif l1[i] < l2[j]:\n",
    "            i=i+1\n",
    "        else:\n",
    "            j=j+1\n",
    "    return common\n",
    "common_elements([1,4,7,9,76],[4,8,9,12,30,45,58,76])"
   ]
  },
  {
   "cell_type": "code",
   "execution_count": 12,
   "metadata": {},
   "outputs": [
    {
     "data": {
      "text/plain": [
       "[1, 2, 3, 4, 5, 6, 7, 9, 10, 11, 13]"
      ]
     },
     "execution_count": 12,
     "metadata": {},
     "output_type": "execute_result"
    }
   ],
   "source": [
    "def merge_sorted(l1,l2):\n",
    "    i=0\n",
    "    j=0\n",
    "    common=[]\n",
    "    while i<len(l1) and j<len(l2):\n",
    "        if l1[i] < l2[j]:\n",
    "            common.append(l1[i])\n",
    "            i=i+1\n",
    "        else:\n",
    "            common.append(l2[j])\n",
    "            j=j+1\n",
    "    if i==len(l1):\n",
    "        common=common+l2[j:]\n",
    "    elif j==len(l2):\n",
    "        common=common+l1[i:]\n",
    "    return common\n",
    "        \n",
    "merge_sorted([1,3,6,7],[2,4,5,9,10,11,13])"
   ]
  },
  {
   "cell_type": "code",
   "execution_count": null,
   "metadata": {},
   "outputs": [],
   "source": []
  },
  {
   "cell_type": "code",
   "execution_count": null,
   "metadata": {},
   "outputs": [],
   "source": []
  },
  {
   "cell_type": "code",
   "execution_count": null,
   "metadata": {},
   "outputs": [],
   "source": []
  },
  {
   "cell_type": "code",
   "execution_count": null,
   "metadata": {},
   "outputs": [],
   "source": []
  },
  {
   "cell_type": "code",
   "execution_count": null,
   "metadata": {},
   "outputs": [],
   "source": []
  },
  {
   "cell_type": "code",
   "execution_count": null,
   "metadata": {},
   "outputs": [],
   "source": []
  },
  {
   "cell_type": "code",
   "execution_count": null,
   "metadata": {},
   "outputs": [],
   "source": []
  },
  {
   "cell_type": "code",
   "execution_count": null,
   "metadata": {},
   "outputs": [],
   "source": []
  },
  {
   "cell_type": "code",
   "execution_count": null,
   "metadata": {},
   "outputs": [],
   "source": []
  },
  {
   "cell_type": "code",
   "execution_count": null,
   "metadata": {},
   "outputs": [],
   "source": []
  },
  {
   "cell_type": "code",
   "execution_count": null,
   "metadata": {},
   "outputs": [],
   "source": []
  },
  {
   "cell_type": "code",
   "execution_count": null,
   "metadata": {},
   "outputs": [],
   "source": []
  },
  {
   "cell_type": "code",
   "execution_count": null,
   "metadata": {},
   "outputs": [],
   "source": []
  },
  {
   "cell_type": "code",
   "execution_count": null,
   "metadata": {},
   "outputs": [],
   "source": []
  },
  {
   "cell_type": "code",
   "execution_count": null,
   "metadata": {},
   "outputs": [],
   "source": []
  },
  {
   "cell_type": "code",
   "execution_count": null,
   "metadata": {},
   "outputs": [],
   "source": []
  }
 ],
 "metadata": {
  "kernelspec": {
   "display_name": "Python 3",
   "language": "python",
   "name": "python3"
  },
  "language_info": {
   "codemirror_mode": {
    "name": "ipython",
    "version": 3
   },
   "file_extension": ".py",
   "mimetype": "text/x-python",
   "name": "python",
   "nbconvert_exporter": "python",
   "pygments_lexer": "ipython3",
   "version": "3.6.8"
  }
 },
 "nbformat": 4,
 "nbformat_minor": 2
}
